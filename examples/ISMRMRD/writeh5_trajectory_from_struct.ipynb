{
 "cells": [
  {
   "cell_type": "code",
   "execution_count": 147,
   "id": "b0b18005-d9a7-49f2-bc4b-de6bb1efcb1f",
   "metadata": {},
   "outputs": [
    {
     "name": "stdout",
     "output_type": "stream",
     "text": [
      "Updated traj successfully in the HDF5 file.\n"
     ]
    }
   ],
   "source": [
    "import h5py\n",
    "import scipy.io as sio\n",
    "import numpy as np\n",
    "\n",
    "# Set path to files\n",
    "modifiedData = 'modifiedData.mat'\n",
    "ismrmrdFile = 'ismrmrd_testfile_body_w_traj.mdr'\n",
    "\n",
    "# Load the modified data from the .mat file\n",
    "mat_data = sio.loadmat(modifiedData)\n",
    "\n",
    "# Get dict key, assuming only containing the struct\n",
    "myStruct = list(mat_data.keys())[-1]\n",
    "\n",
    "# Extract the traj field\n",
    "modified_traj = mat_data[myStruct]['traj'][0,0]  \n",
    "\n",
    "# Open the original HDF5 file\n",
    "with h5py.File(ismrmrdFile, \"r+\") as hdf:\n",
    "    # Access the compound dataset\n",
    "    compound_dataset = hdf['/dataset/data']\n",
    "    \n",
    "    # Read the entire compound dataset (which may be large)\n",
    "    data_array = compound_dataset[:]\n",
    "\n",
    "    # Modify the 'traj' field within the compound dataset\n",
    "    for i, _ in enumerate(data_array):\n",
    "        data_array[i]['traj'] = modified_traj[i,0]  # Assuming the lengths match\n",
    "    \n",
    "    # Write the modified data back to the file\n",
    "    compound_dataset[...] = data_array\n",
    "\n",
    "    print(\"Updated traj successfully in the HDF5 file.\")"
   ]
  },
  {
   "cell_type": "code",
   "execution_count": 159,
   "id": "d15cf355-0b12-4e8b-9a9d-09d44329b135",
   "metadata": {},
   "outputs": [
    {
     "data": {
      "text/plain": [
       "'myData'"
      ]
     },
     "execution_count": 159,
     "metadata": {},
     "output_type": "execute_result"
    }
   ],
   "source": []
  },
  {
   "cell_type": "code",
   "execution_count": null,
   "id": "305d372e-d82f-4c8c-bc52-c945c36e0add",
   "metadata": {},
   "outputs": [],
   "source": []
  }
 ],
 "metadata": {
  "kernelspec": {
   "display_name": "Python 3 (ipykernel)",
   "language": "python",
   "name": "python3"
  },
  "language_info": {
   "codemirror_mode": {
    "name": "ipython",
    "version": 3
   },
   "file_extension": ".py",
   "mimetype": "text/x-python",
   "name": "python",
   "nbconvert_exporter": "python",
   "pygments_lexer": "ipython3",
   "version": "3.12.4"
  }
 },
 "nbformat": 4,
 "nbformat_minor": 5
}
